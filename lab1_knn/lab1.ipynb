{
 "cells": [
  {
   "cell_type": "markdown",
   "id": "3de2f29e-a308-44d8-8113-b38ef509479d",
   "metadata": {},
   "source": [
    "# Processing data"
   ]
  },
  {
   "cell_type": "markdown",
   "id": "aa84825f-31be-4d21-9bb9-634311082e9c",
   "metadata": {},
   "source": [
    "## Loading data"
   ]
  },
  {
   "cell_type": "code",
   "execution_count": 1,
   "id": "f23a446c-a8b6-421b-b151-59802f1895ac",
   "metadata": {},
   "outputs": [],
   "source": [
    "import pandas as pd\n",
    "import matplotlib.pyplot as plt\n",
    "import seaborn as sns\n",
    "import numpy as np\n",
    "sns.set_style(\"darkgrid\")\n",
    "%matplotlib inline"
   ]
  },
  {
   "cell_type": "code",
   "execution_count": 2,
   "id": "82dab709-17a8-43f9-924c-2fee693bd1cb",
   "metadata": {},
   "outputs": [],
   "source": [
    "df_orig = pd.read_csv(\"dataset_knn.csv\")"
   ]
  },
  {
   "cell_type": "code",
   "execution_count": 3,
   "id": "2077b0f0-1aaa-49e9-bc0d-ec0cac0d5cdb",
   "metadata": {},
   "outputs": [
    {
     "data": {
      "text/html": [
       "<div>\n",
       "<style scoped>\n",
       "    .dataframe tbody tr th:only-of-type {\n",
       "        vertical-align: middle;\n",
       "    }\n",
       "\n",
       "    .dataframe tbody tr th {\n",
       "        vertical-align: top;\n",
       "    }\n",
       "\n",
       "    .dataframe thead th {\n",
       "        text-align: right;\n",
       "    }\n",
       "</style>\n",
       "<table border=\"1\" class=\"dataframe\">\n",
       "  <thead>\n",
       "    <tr style=\"text-align: right;\">\n",
       "      <th></th>\n",
       "      <th>Отметка времени</th>\n",
       "      <th>пол</th>\n",
       "      <th>возраст</th>\n",
       "      <th>кто ты?</th>\n",
       "      <th>во сколько встаете?</th>\n",
       "      <th>далеко ли живешь от института?</th>\n",
       "      <th>особенности характера</th>\n",
       "      <th>работаете?</th>\n",
       "      <th>доход</th>\n",
       "      <th>был на паре 07.08</th>\n",
       "    </tr>\n",
       "  </thead>\n",
       "  <tbody>\n",
       "    <tr>\n",
       "      <th>0</th>\n",
       "      <td>09.09.2023 15:23:00</td>\n",
       "      <td>ж</td>\n",
       "      <td>22</td>\n",
       "      <td>сова</td>\n",
       "      <td>8.00</td>\n",
       "      <td>да</td>\n",
       "      <td>интроверт</td>\n",
       "      <td>да</td>\n",
       "      <td>доволен</td>\n",
       "      <td>да</td>\n",
       "    </tr>\n",
       "    <tr>\n",
       "      <th>1</th>\n",
       "      <td>09.09.2023 15:25:11</td>\n",
       "      <td>м</td>\n",
       "      <td>21</td>\n",
       "      <td>сова</td>\n",
       "      <td>9:00</td>\n",
       "      <td>Нет</td>\n",
       "      <td>интроверт</td>\n",
       "      <td>да</td>\n",
       "      <td>недоволен</td>\n",
       "      <td>Нет</td>\n",
       "    </tr>\n",
       "    <tr>\n",
       "      <th>2</th>\n",
       "      <td>09.09.2023 15:25:43</td>\n",
       "      <td>м</td>\n",
       "      <td>22</td>\n",
       "      <td>сова</td>\n",
       "      <td>10</td>\n",
       "      <td>да</td>\n",
       "      <td>интроверт</td>\n",
       "      <td>Нет</td>\n",
       "      <td>недоволен</td>\n",
       "      <td>да</td>\n",
       "    </tr>\n",
       "    <tr>\n",
       "      <th>3</th>\n",
       "      <td>09.09.2023 15:26:02</td>\n",
       "      <td>м</td>\n",
       "      <td>22</td>\n",
       "      <td>сова</td>\n",
       "      <td>Время когда лягу + 7 часов сна</td>\n",
       "      <td>да</td>\n",
       "      <td>экстраверт</td>\n",
       "      <td>да</td>\n",
       "      <td>доволен</td>\n",
       "      <td>Нет</td>\n",
       "    </tr>\n",
       "    <tr>\n",
       "      <th>4</th>\n",
       "      <td>09.09.2023 15:27:41</td>\n",
       "      <td>ж</td>\n",
       "      <td>21</td>\n",
       "      <td>сова</td>\n",
       "      <td>11</td>\n",
       "      <td>да</td>\n",
       "      <td>интроверт</td>\n",
       "      <td>да</td>\n",
       "      <td>доволен</td>\n",
       "      <td>да</td>\n",
       "    </tr>\n",
       "  </tbody>\n",
       "</table>\n",
       "</div>"
      ],
      "text/plain": [
       "       Отметка времени пол  возраст кто ты?              во сколько встаете?  \\\n",
       "0  09.09.2023 15:23:00   ж       22    сова                             8.00   \n",
       "1  09.09.2023 15:25:11   м       21    сова                             9:00   \n",
       "2  09.09.2023 15:25:43   м       22    сова                               10   \n",
       "3  09.09.2023 15:26:02   м       22    сова  Время когда лягу + 7 часов сна    \n",
       "4  09.09.2023 15:27:41   ж       21    сова                               11   \n",
       "\n",
       "  далеко ли живешь от института? особенности характера работаете?      доход  \\\n",
       "0                             да             интроверт         да    доволен   \n",
       "1                            Нет             интроверт         да  недоволен   \n",
       "2                             да             интроверт        Нет  недоволен   \n",
       "3                             да            экстраверт         да    доволен   \n",
       "4                             да             интроверт         да    доволен   \n",
       "\n",
       "  был на паре 07.08  \n",
       "0                да  \n",
       "1               Нет  \n",
       "2                да  \n",
       "3               Нет  \n",
       "4                да  "
      ]
     },
     "execution_count": 3,
     "metadata": {},
     "output_type": "execute_result"
    }
   ],
   "source": [
    "df_orig.head()"
   ]
  },
  {
   "cell_type": "markdown",
   "id": "6a0e7291-e65f-412e-add6-3c12d30050d4",
   "metadata": {},
   "source": [
    "## Preprocessing data"
   ]
  },
  {
   "cell_type": "code",
   "execution_count": 4,
   "id": "3e6ce4be-409f-4fcd-988f-3c7de8e88d11",
   "metadata": {},
   "outputs": [],
   "source": [
    "df_0 = df_orig.rename(columns={\n",
    "    \"Отметка времени\": \"datetime\",\n",
    "    \"пол\": \"sex\",\n",
    "    \"возраст\": \"age\",\n",
    "    \"кто ты?\": \"lark_owl\",\n",
    "    \"во сколько встаете?\": \"wakeup\",\n",
    "    \"далеко ли живешь от института?\": \"far\",\n",
    "    \"особенности характера\": \"temperament\",\n",
    "    \"работаете?\": \"is_work\",\n",
    "    \"доход\": \"incoming\",\n",
    "    \"был на паре 07.08\": \"attendance_07_09\",\n",
    "})"
   ]
  },
  {
   "cell_type": "code",
   "execution_count": 5,
   "id": "d21b5e9d-d902-4f8a-b8bc-9748580e8989",
   "metadata": {},
   "outputs": [],
   "source": [
    "df_1 = df_0.copy()\n",
    "df_1[\"datetime\"] = pd.to_datetime(df_1[\"datetime\"])\n",
    "df_1[\"sex\"] = df_1[\"sex\"] == \"м\"\n",
    "df_1[\"lark_owl\"] = df_1[\"lark_owl\"] == \"сова\"\n",
    "df_1[\"wakeup\"] = df_1[\"wakeup\"]\n",
    "df_1[\"far\"] = df_1[\"far\"].str.strip().str.lower() == \"да\"\n",
    "df_1[\"temperament\"] = df_1[\"temperament\"] == \"интроверт\"\n",
    "df_1[\"is_work\"] = df_1[\"is_work\"].str.strip().str.lower() == \"да\"\n",
    "df_1[\"incoming\"] = df_1[\"incoming\"] == \"доволен\"\n",
    "df_1[\"attendance_07_09\"] = df_1[\"attendance_07_09\"].str.strip().str.lower() == \"да\"\n",
    "\n",
    "def get_time_wakeup(obj: str):\n",
    "    try:\n",
    "        return int(obj) * 60\n",
    "    except ValueError:\n",
    "        pass\n",
    "    obj = obj.replace(\".\", \":\")\n",
    "    try:\n",
    "        h, m = map(int, obj.strip().split(\":\"))\n",
    "    except ValueError:\n",
    "        pass\n",
    "    else:\n",
    "        return h * 60 + m\n",
    "    return float(\"nan\")\n",
    "\n",
    "df_1[\"wakeup\"] = df_1[\"wakeup\"].map(get_time_wakeup)"
   ]
  },
  {
   "cell_type": "code",
   "execution_count": 6,
   "id": "59b60fdb-595d-4879-b032-ac9517fa5006",
   "metadata": {},
   "outputs": [],
   "source": [
    "df_2 = df_1.dropna()"
   ]
  },
  {
   "cell_type": "code",
   "execution_count": 7,
   "id": "bd84fd82-9ef6-409f-a1fe-d8e086b3eedb",
   "metadata": {},
   "outputs": [
    {
     "data": {
      "text/html": [
       "<div>\n",
       "<style scoped>\n",
       "    .dataframe tbody tr th:only-of-type {\n",
       "        vertical-align: middle;\n",
       "    }\n",
       "\n",
       "    .dataframe tbody tr th {\n",
       "        vertical-align: top;\n",
       "    }\n",
       "\n",
       "    .dataframe thead th {\n",
       "        text-align: right;\n",
       "    }\n",
       "</style>\n",
       "<table border=\"1\" class=\"dataframe\">\n",
       "  <thead>\n",
       "    <tr style=\"text-align: right;\">\n",
       "      <th></th>\n",
       "      <th>datetime</th>\n",
       "      <th>sex</th>\n",
       "      <th>age</th>\n",
       "      <th>lark_owl</th>\n",
       "      <th>wakeup</th>\n",
       "      <th>far</th>\n",
       "      <th>temperament</th>\n",
       "      <th>is_work</th>\n",
       "      <th>incoming</th>\n",
       "      <th>attendance_07_09</th>\n",
       "    </tr>\n",
       "  </thead>\n",
       "  <tbody>\n",
       "    <tr>\n",
       "      <th>9</th>\n",
       "      <td>2023-09-09 20:04:24</td>\n",
       "      <td>True</td>\n",
       "      <td>21</td>\n",
       "      <td>False</td>\n",
       "      <td>450.0</td>\n",
       "      <td>True</td>\n",
       "      <td>False</td>\n",
       "      <td>True</td>\n",
       "      <td>False</td>\n",
       "      <td>False</td>\n",
       "    </tr>\n",
       "    <tr>\n",
       "      <th>8</th>\n",
       "      <td>2023-09-09 19:30:08</td>\n",
       "      <td>True</td>\n",
       "      <td>22</td>\n",
       "      <td>True</td>\n",
       "      <td>660.0</td>\n",
       "      <td>True</td>\n",
       "      <td>True</td>\n",
       "      <td>True</td>\n",
       "      <td>True</td>\n",
       "      <td>False</td>\n",
       "    </tr>\n",
       "    <tr>\n",
       "      <th>2</th>\n",
       "      <td>2023-09-09 15:25:43</td>\n",
       "      <td>True</td>\n",
       "      <td>22</td>\n",
       "      <td>True</td>\n",
       "      <td>600.0</td>\n",
       "      <td>True</td>\n",
       "      <td>True</td>\n",
       "      <td>False</td>\n",
       "      <td>False</td>\n",
       "      <td>True</td>\n",
       "    </tr>\n",
       "    <tr>\n",
       "      <th>11</th>\n",
       "      <td>2023-10-09 18:24:26</td>\n",
       "      <td>True</td>\n",
       "      <td>22</td>\n",
       "      <td>False</td>\n",
       "      <td>360.0</td>\n",
       "      <td>False</td>\n",
       "      <td>True</td>\n",
       "      <td>True</td>\n",
       "      <td>True</td>\n",
       "      <td>False</td>\n",
       "    </tr>\n",
       "    <tr>\n",
       "      <th>0</th>\n",
       "      <td>2023-09-09 15:23:00</td>\n",
       "      <td>False</td>\n",
       "      <td>22</td>\n",
       "      <td>True</td>\n",
       "      <td>480.0</td>\n",
       "      <td>True</td>\n",
       "      <td>True</td>\n",
       "      <td>True</td>\n",
       "      <td>True</td>\n",
       "      <td>True</td>\n",
       "    </tr>\n",
       "  </tbody>\n",
       "</table>\n",
       "</div>"
      ],
      "text/plain": [
       "              datetime    sex  age  lark_owl  wakeup    far  temperament  \\\n",
       "9  2023-09-09 20:04:24   True   21     False   450.0   True        False   \n",
       "8  2023-09-09 19:30:08   True   22      True   660.0   True         True   \n",
       "2  2023-09-09 15:25:43   True   22      True   600.0   True         True   \n",
       "11 2023-10-09 18:24:26   True   22     False   360.0  False         True   \n",
       "0  2023-09-09 15:23:00  False   22      True   480.0   True         True   \n",
       "\n",
       "    is_work  incoming  attendance_07_09  \n",
       "9      True     False             False  \n",
       "8      True      True             False  \n",
       "2     False     False              True  \n",
       "11     True      True             False  \n",
       "0      True      True              True  "
      ]
     },
     "execution_count": 7,
     "metadata": {},
     "output_type": "execute_result"
    }
   ],
   "source": [
    "df_2.sample(5, random_state=44)"
   ]
  },
  {
   "cell_type": "code",
   "execution_count": 8,
   "id": "07b2a320-6c8b-4af9-8dea-1942ee1d0391",
   "metadata": {},
   "outputs": [],
   "source": [
    "X = df_2.drop([\"attendance_07_09\", \"datetime\"], axis=1)\n",
    "y = df_2[\"attendance_07_09\"]"
   ]
  },
  {
   "cell_type": "markdown",
   "id": "8947a6fe-61c4-4ba4-82f6-06445d9f5006",
   "metadata": {},
   "source": [
    "## Some plots"
   ]
  },
  {
   "cell_type": "code",
   "execution_count": 9,
   "id": "f1fb133a-6c78-47f1-a228-c2c63c2dc37c",
   "metadata": {},
   "outputs": [
    {
     "data": {
      "image/png": "[encoded data removed]",
      "text/plain": [
       "<Figure size 432x288 with 1 Axes>"
      ]
     },
     "metadata": {
      "needs_background": "light"
     },
     "output_type": "display_data"
    }
   ],
   "source": [
    "df_2[\"attendance_07_09\"].astype(int).hist();"
   ]
  },
  {
   "cell_type": "code",
   "execution_count": 10,
   "id": "07b22a5d-140f-41d9-9e15-715b99922e2c",
   "metadata": {},
   "outputs": [
    {
     "data": {
      "image/png": "[encoded data removed]",
      "text/plain": [
       "<Figure size 432x288 with 1 Axes>"
      ]
     },
     "metadata": {
      "needs_background": "light"
     },
     "output_type": "display_data"
    }
   ],
   "source": [
    "df_2.boxplot(column=[\"wakeup\"]);"
   ]
  },
  {
   "cell_type": "markdown",
   "id": "f27e7be5-7bd8-4ab1-bf7d-3bda4c69d3d5",
   "metadata": {},
   "source": [
    "### t-SNE plot"
   ]
  },
  {
   "cell_type": "code",
   "execution_count": 11,
   "id": "5134a8c6-75f2-40bf-a9b6-f6a0a8989909",
   "metadata": {},
   "outputs": [
    {
     "data": {
      "text/plain": [
       "(11, 2)"
      ]
     },
     "execution_count": 11,
     "metadata": {},
     "output_type": "execute_result"
    }
   ],
   "source": [
    "from sklearn.manifold import TSNE\n",
    "\n",
    "X_embedded = TSNE(n_components=2, learning_rate=\"auto\", perplexity=3, init=\"random\", random_state=12).fit_transform(X)\n",
    "X_embedded.shape"
   ]
  },
  {
   "cell_type": "code",
   "execution_count": 12,
   "id": "7df6f67b-d855-48a9-b858-63f1a391a4b6",
   "metadata": {},
   "outputs": [
    {
     "data": {
      "image/png": "[encoded data removed]",
      "text/plain": [
       "<Figure size 432x288 with 1 Axes>"
      ]
     },
     "metadata": {
      "needs_background": "light"
     },
     "output_type": "display_data"
    }
   ],
   "source": [
    "colors = np.array([\"r\", \"g\", \"b\"])\n",
    "plt.scatter(X_embedded[:, 0], X_embedded[:, 1], c=colors[y.astype(int)])\n",
    "plt.show()"
   ]
  },
  {
   "cell_type": "markdown",
   "id": "137aa550-46e7-4255-a384-7f828d81a372",
   "metadata": {},
   "source": [
    "# KNN"
   ]
  },
  {
   "cell_type": "markdown",
   "id": "6bdd9dcc-72b0-412d-9b2c-1666dad9efa9",
   "metadata": {},
   "source": [
    "## Realization of KNN"
   ]
  },
  {
   "cell_type": "code",
   "execution_count": 13,
   "id": "04e8aac8-a1fd-4e3a-96c2-eacb15633ffe",
   "metadata": {},
   "outputs": [],
   "source": [
    "from collections import Counter\n",
    "\n",
    "\n",
    "class CustomKNNClassifier:\n",
    "    def __init__(self, n_neighbors: int = 5, *, p: int = 2) -> None:\n",
    "        self._X_ = None\n",
    "        self._y_ = None\n",
    "        \n",
    "        self.n = n_neighbors\n",
    "        self._p = p\n",
    "            \n",
    "    def fit(self, X, y):\n",
    "        self._X_ = X.copy()\n",
    "        self._y_ = y.copy()\n",
    "        return self\n",
    "        \n",
    "    def predict(self, X):\n",
    "        assert X.shape[1:] == self._X_.shape[1:]\n",
    "        return np.apply_along_axis(self._get_label_for_row, 1, X)\n",
    "\n",
    "    def _get_label_for_row(self, row):\n",
    "        dists = self._minkowski_dist(self._X_, row, self._p)\n",
    "        dists_with_labels = np.column_stack((self._y_, dists))\n",
    "        sorted_dists_with_labels = dists_with_labels[dists_with_labels[:, 1].argsort()]\n",
    "        count_labels = Counter(sorted_dists_with_labels[0 : self.n, 0])\n",
    "        return count_labels.most_common(1)[0][0]\n",
    "\n",
    "    @staticmethod\n",
    "    def _minkowski_dist(x1, x2, p):\n",
    "        return np.sum(np.abs(x1-x2) ** p, axis=1) ** (1/p)"
   ]
  },
  {
   "cell_type": "markdown",
   "id": "15d54675-9d71-4e0a-8896-bdcb63fb877e",
   "metadata": {},
   "source": [
    "## Learning model"
   ]
  },
  {
   "cell_type": "markdown",
   "id": "6dc21200-d851-49c8-9902-29dcdea156bb",
   "metadata": {},
   "source": [
    "### Split data to train/test datasets"
   ]
  },
  {
   "cell_type": "code",
   "execution_count": 14,
   "id": "ff946aeb-7b74-4401-8703-76d5fef7fa56",
   "metadata": {},
   "outputs": [],
   "source": [
    "from sklearn.model_selection import train_test_split\n",
    "\n",
    "X_train, X_val, y_train, y_val = train_test_split(X, y, test_size=0.2, shuffle=True, random_state=40)"
   ]
  },
  {
   "cell_type": "code",
   "execution_count": 15,
   "id": "82f8f839-eb7f-4572-8874-2a618efb34b2",
   "metadata": {},
   "outputs": [
    {
     "data": {
      "text/plain": [
       "((8, 8), (8,), (3, 8), (3,))"
      ]
     },
     "execution_count": 15,
     "metadata": {},
     "output_type": "execute_result"
    }
   ],
   "source": [
    "X_train.shape, y_train.shape, X_val.shape, y_val.shape"
   ]
  },
  {
   "cell_type": "markdown",
   "id": "0a9812c5-6f92-4b30-9eff-b46fe647f542",
   "metadata": {},
   "source": [
    "### Actually training model"
   ]
  },
  {
   "cell_type": "code",
   "execution_count": 16,
   "id": "b2bc1332-4204-4817-ba99-733effcbc888",
   "metadata": {},
   "outputs": [
    {
     "data": {
      "text/plain": [
       "<__main__.CustomKNNClassifier at 0x7f98a64fc7f0>"
      ]
     },
     "execution_count": 16,
     "metadata": {},
     "output_type": "execute_result"
    }
   ],
   "source": [
    "clf = CustomKNNClassifier(n_neighbors=5)\n",
    "clf.fit(X_train, y_train)"
   ]
  },
  {
   "cell_type": "markdown",
   "id": "976663d6-116c-45e4-8f81-0727eaa1795a",
   "metadata": {},
   "source": [
    "### Estimating model accuracy"
   ]
  },
  {
   "cell_type": "code",
   "execution_count": 17,
   "id": "ba432937-0ec5-4c75-a7ef-51fca71e1629",
   "metadata": {},
   "outputs": [
    {
     "data": {
      "text/plain": [
       "0.6666666666666666"
      ]
     },
     "execution_count": 17,
     "metadata": {},
     "output_type": "execute_result"
    }
   ],
   "source": [
    "from sklearn.metrics import accuracy_score\n",
    "\n",
    "y_val_pred = clf.predict(X_val)\n",
    "accuracy_score(y_val, y_val_pred)"
   ]
  },
  {
   "cell_type": "markdown",
   "id": "61848f1b-7f58-4152-a44a-165ac80b6774",
   "metadata": {},
   "source": [
    "### Save model to file"
   ]
  },
  {
   "cell_type": "code",
   "execution_count": 18,
   "id": "14ca3ac8-9374-43e1-b8ee-337ef9ef6f5b",
   "metadata": {},
   "outputs": [],
   "source": [
    "import pickle\n",
    "with open(\"knn_custom_classifier.pkl\", \"wb\") as f:\n",
    "    pickle.dump(clf, f)"
   ]
  },
  {
   "cell_type": "markdown",
   "id": "e73a76b6-68d8-40f9-80fd-dc1f9392d03c",
   "metadata": {},
   "source": [
    "### Read model from file"
   ]
  },
  {
   "cell_type": "code",
   "execution_count": 19,
   "id": "e3c009de-48bd-4436-85ee-d270b98b8d14",
   "metadata": {},
   "outputs": [],
   "source": [
    "# import pickle\n",
    "# with open(\"knn_custom_classifier.pkl\", \"rb\") as f:\n",
    "#     clf = pickle.load(f)"
   ]
  }
 ],
 "metadata": {
  "kernelspec": {
   "display_name": "Python [conda env:root] *",
   "language": "python",
   "name": "conda-root-py"
  },
  "language_info": {
   "codemirror_mode": {
    "name": "ipython",
    "version": 3
   },
   "file_extension": ".py",
   "mimetype": "text/x-python",
   "name": "python",
   "nbconvert_exporter": "python",
   "pygments_lexer": "ipython3",
   "version": "3.9.12"
  }
 },
 "nbformat": 4,
 "nbformat_minor": 5
}
