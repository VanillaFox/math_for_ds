{
 "cells": [
  {
   "cell_type": "code",
   "execution_count": 10,
   "id": "c9e4baab-5008-4678-ae64-0bf2b09c8a9d",
   "metadata": {},
   "outputs": [],
   "source": [
    "import math\n",
    "import pandas as pd\n",
    "import numpy as np\n",
    "from pgmpy.models import BayesianModel, BayesianNetwork\n",
    "from pgmpy.estimators import MaximumLikelihoodEstimator"
   ]
  },
  {
   "cell_type": "code",
   "execution_count": 4,
   "id": "e20f416f-ac74-4584-8a31-d0437db5ad69",
   "metadata": {},
   "outputs": [],
   "source": [
    "df = pd.read_csv(\"../../Data.csv\")\n",
    "df.dropna(inplace=True)"
   ]
  },
  {
   "cell_type": "code",
   "execution_count": 5,
   "id": "fc7042a9-13e4-4f68-8d9c-fac932457672",
   "metadata": {},
   "outputs": [],
   "source": [
    "def transform_df(df):\n",
    "    purchases = df[df['Quantity'] > 0].copy()\n",
    "    returns = df[df['Quantity'] < 0].copy()\n",
    "    \n",
    "    returns['Quantity'] = returns['Quantity'].abs()\n",
    "    \n",
    "    returns_grouped = returns.groupby(['Customer ID', 'StockCode']).agg({'Quantity': 'sum'}).reset_index()\n",
    "    returns_grouped['is_returned'] = 1\n",
    "    \n",
    "    result = pd.merge(purchases, returns_grouped[['Customer ID', 'StockCode', 'is_returned']], on=['Customer ID', 'StockCode'], how='left')\n",
    "    \n",
    "    # Заполнение NaN значений в is_returned как 0 (нет возврата)\n",
    "    result['is_returned'] = result['is_returned'].fillna(0).astype(int)\n",
    "\n",
    "    return result\n",
    "\n",
    "transformed_df = transform_df(df)"
   ]
  },
  {
   "cell_type": "code",
   "execution_count": 6,
   "id": "d2a3292e-cb12-4300-b9a8-7d2da2efeb83",
   "metadata": {},
   "outputs": [],
   "source": [
    "from functools import partial\n",
    "\n",
    "q_quantiles = transformed_df['Quantity'].quantile([0.25, 0.5, 0.75]).values\n",
    "p_quantiles = transformed_df['Price'].quantile([0.25, 0.5, 0.75]).values\n",
    "\n",
    "def round_to_quantile(quantiles, x):\n",
    "    return quantiles[(np.abs(quantiles - x)).argmin()]\n",
    "\n",
    "transformed_df[\"Quantity_rounded\"] = transformed_df[\"Quantity\"].apply(partial(round_to_quantile, q_quantiles))\n",
    "transformed_df[\"Price_rounded\"] = transformed_df[\"Price\"].apply(partial(round_to_quantile, p_quantiles))"
   ]
  },
  {
   "cell_type": "code",
   "execution_count": 11,
   "id": "9093edfe-053e-45b2-a18e-757f79bcec83",
   "metadata": {},
   "outputs": [],
   "source": [
    "model = BayesianNetwork([('Price_rounded', 'is_returned'), ('Quantity_rounded', 'is_returned')])"
   ]
  },
  {
   "cell_type": "code",
   "execution_count": 12,
   "id": "be619ccd-f494-456a-ae57-b77e2ea1633b",
   "metadata": {},
   "outputs": [],
   "source": [
    "model.fit(transformed_df, estimator=MaximumLikelihoodEstimator)"
   ]
  },
  {
   "cell_type": "code",
   "execution_count": 13,
   "id": "22347e8c-ad44-4dc4-be33-9920fc8befc8",
   "metadata": {},
   "outputs": [
    {
     "name": "stdout",
     "output_type": "stream",
     "text": [
      "CPD of Price_rounded:\n",
      "+---------------------+----------+\n",
      "| Price_rounded(1.25) | 0.378406 |\n",
      "+---------------------+----------+\n",
      "| Price_rounded(1.95) | 0.259217 |\n",
      "+---------------------+----------+\n",
      "| Price_rounded(3.75) | 0.362376 |\n",
      "+---------------------+----------+\n",
      "CPD of is_returned:\n",
      "+------------------+-----+------------------------+\n",
      "| Price_rounded    | ... | Price_rounded(3.75)    |\n",
      "+------------------+-----+------------------------+\n",
      "| Quantity_rounded | ... | Quantity_rounded(12.0) |\n",
      "+------------------+-----+------------------------+\n",
      "| is_returned(0)   | ... | 0.8592036505483183     |\n",
      "+------------------+-----+------------------------+\n",
      "| is_returned(1)   | ... | 0.14079634945168176    |\n",
      "+------------------+-----+------------------------+\n",
      "CPD of Quantity_rounded:\n",
      "+------------------------+----------+\n",
      "| Quantity_rounded(2.0)  | 0.471798 |\n",
      "+------------------------+----------+\n",
      "| Quantity_rounded(6.0)  | 0.159758 |\n",
      "+------------------------+----------+\n",
      "| Quantity_rounded(12.0) | 0.368444 |\n",
      "+------------------------+----------+\n"
     ]
    }
   ],
   "source": [
    "for cpd in model.get_cpds():\n",
    "    print(\"CPD of {variable}:\".format(variable=cpd.variable))\n",
    "    print(cpd)"
   ]
  }
 ],
 "metadata": {
  "kernelspec": {
   "display_name": "Python [conda env:ff_ds]",
   "language": "python",
   "name": "conda-env-ff_ds-py"
  },
  "language_info": {
   "codemirror_mode": {
    "name": "ipython",
    "version": 3
   },
   "file_extension": ".py",
   "mimetype": "text/x-python",
   "name": "python",
   "nbconvert_exporter": "python",
   "pygments_lexer": "ipython3",
   "version": "3.11.6"
  }
 },
 "nbformat": 4,
 "nbformat_minor": 5
}
