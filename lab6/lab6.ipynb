{
 "cells": [
  {
   "cell_type": "code",
   "execution_count": 18,
   "id": "c9e4baab-5008-4678-ae64-0bf2b09c8a9d",
   "metadata": {},
   "outputs": [],
   "source": [
    "import math\n",
    "import pymc as pm\n",
    "import pandas as pd\n",
    "import numpy as np\n",
    "import matplotlib.pyplot as plt\n",
    "import seaborn as sns\n",
    "from sklearn.preprocessing import OneHotEncoder\n",
    "\n",
    "%matplotlib inline"
   ]
  },
  {
   "cell_type": "code",
   "execution_count": 25,
   "id": "e20f416f-ac74-4584-8a31-d0437db5ad69",
   "metadata": {},
   "outputs": [],
   "source": [
    "df = pd.read_csv(\"../../Data.csv\")\n",
    "df.dropna(inplace=True)"
   ]
  },
  {
   "cell_type": "code",
   "execution_count": 26,
   "id": "fc7042a9-13e4-4f68-8d9c-fac932457672",
   "metadata": {},
   "outputs": [],
   "source": [
    "def transform_df(df):\n",
    "    purchases = df[df['Quantity'] > 0].copy()\n",
    "    returns = df[df['Quantity'] < 0].copy()\n",
    "    \n",
    "    returns['Quantity'] = returns['Quantity'].abs()\n",
    "    \n",
    "    returns_grouped = returns.groupby(['Customer ID', 'StockCode']).agg({'Quantity': 'sum'}).reset_index()\n",
    "    returns_grouped['is_returned'] = 1\n",
    "    \n",
    "    result = pd.merge(purchases, returns_grouped[['Customer ID', 'StockCode', 'is_returned']], on=['Customer ID', 'StockCode'], how='left')\n",
    "    \n",
    "    # Заполнение NaN значений в is_returned как 0 (нет возврата)\n",
    "    result['is_returned'] = result['is_returned'].fillna(0).astype(int)\n",
    "\n",
    "    return result\n",
    "\n",
    "transformed_df = transform_df(df)"
   ]
  },
  {
   "cell_type": "code",
   "execution_count": 37,
   "id": "4e7e3d97-f69e-482d-8539-acbbd4777946",
   "metadata": {},
   "outputs": [
    {
     "name": "stderr",
     "output_type": "stream",
     "text": [
      "Auto-assigning NUTS sampler...\n",
      "Initializing NUTS using jitter+adapt_diag...\n",
      "Multiprocess sampling (4 chains in 4 jobs)\n",
      "NUTS: [price, quantity]\n"
     ]
    },
    {
     "data": {
      "text/html": [
       "\n",
       "<style>\n",
       "    /* Turns off some styling */\n",
       "    progress {\n",
       "        /* gets rid of default border in Firefox and Opera. */\n",
       "        border: none;\n",
       "        /* Needs to be in here for Safari polyfill so background images work as expected. */\n",
       "        background-size: auto;\n",
       "    }\n",
       "    progress:not([value]), progress:not([value])::-webkit-progress-bar {\n",
       "        background: repeating-linear-gradient(45deg, #7e7e7e, #7e7e7e 10px, #5c5c5c 10px, #5c5c5c 20px);\n",
       "    }\n",
       "    .progress-bar-interrupted, .progress-bar-interrupted::-webkit-progress-bar {\n",
       "        background: #F44336;\n",
       "    }\n",
       "</style>\n"
      ],
      "text/plain": [
       "<IPython.core.display.HTML object>"
      ]
     },
     "metadata": {},
     "output_type": "display_data"
    },
    {
     "data": {
      "text/html": [
       "\n",
       "    <div>\n",
       "      <progress value='8000' class='' max='8000' style='width:300px; height:20px; vertical-align: middle;'></progress>\n",
       "      100.00% [8000/8000 23:10&lt;00:00 Sampling 4 chains, 0 divergences]\n",
       "    </div>\n",
       "    "
      ],
      "text/plain": [
       "<IPython.core.display.HTML object>"
      ]
     },
     "metadata": {},
     "output_type": "display_data"
    },
    {
     "name": "stderr",
     "output_type": "stream",
     "text": [
      "Sampling 4 chains for 1_000 tune and 1_000 draw iterations (4_000 + 4_000 draws total) took 1391 seconds.\n",
      "The rhat statistic is larger than 1.01 for some parameters. This indicates problems during sampling. See https://arxiv.org/abs/1903.08008 for details\n",
      "The effective sample size per chain is smaller than 100 for some parameters.  A higher number is needed for reliable rhat and ess computation. See https://arxiv.org/abs/1903.08008 for details\n",
      "Chain 0 reached the maximum tree depth. Increase `max_treedepth`, increase `target_accept` or reparameterize.\n",
      "Chain 1 reached the maximum tree depth. Increase `max_treedepth`, increase `target_accept` or reparameterize.\n",
      "Chain 2 reached the maximum tree depth. Increase `max_treedepth`, increase `target_accept` or reparameterize.\n",
      "Chain 3 reached the maximum tree depth. Increase `max_treedepth`, increase `target_accept` or reparameterize.\n"
     ]
    },
    {
     "data": {
      "text/html": [
       "<div>\n",
       "<style scoped>\n",
       "    .dataframe tbody tr th:only-of-type {\n",
       "        vertical-align: middle;\n",
       "    }\n",
       "\n",
       "    .dataframe tbody tr th {\n",
       "        vertical-align: top;\n",
       "    }\n",
       "\n",
       "    .dataframe thead th {\n",
       "        text-align: right;\n",
       "    }\n",
       "</style>\n",
       "<table border=\"1\" class=\"dataframe\">\n",
       "  <thead>\n",
       "    <tr style=\"text-align: right;\">\n",
       "      <th></th>\n",
       "      <th>mean</th>\n",
       "      <th>sd</th>\n",
       "      <th>hdi_3%</th>\n",
       "      <th>hdi_97%</th>\n",
       "      <th>mcse_mean</th>\n",
       "      <th>mcse_sd</th>\n",
       "      <th>ess_bulk</th>\n",
       "      <th>ess_tail</th>\n",
       "      <th>r_hat</th>\n",
       "    </tr>\n",
       "  </thead>\n",
       "  <tbody>\n",
       "    <tr>\n",
       "      <th>price</th>\n",
       "      <td>19.874</td>\n",
       "      <td>34.386</td>\n",
       "      <td>-44.007</td>\n",
       "      <td>78.582</td>\n",
       "      <td>15.817</td>\n",
       "      <td>11.958</td>\n",
       "      <td>5.0</td>\n",
       "      <td>12.0</td>\n",
       "      <td>2.31</td>\n",
       "    </tr>\n",
       "    <tr>\n",
       "      <th>quantity</th>\n",
       "      <td>-22.671</td>\n",
       "      <td>34.386</td>\n",
       "      <td>-81.377</td>\n",
       "      <td>41.220</td>\n",
       "      <td>15.817</td>\n",
       "      <td>11.958</td>\n",
       "      <td>5.0</td>\n",
       "      <td>12.0</td>\n",
       "      <td>2.31</td>\n",
       "    </tr>\n",
       "    <tr>\n",
       "      <th>theta</th>\n",
       "      <td>0.058</td>\n",
       "      <td>0.000</td>\n",
       "      <td>0.057</td>\n",
       "      <td>0.058</td>\n",
       "      <td>0.000</td>\n",
       "      <td>0.000</td>\n",
       "      <td>3678.0</td>\n",
       "      <td>3145.0</td>\n",
       "      <td>1.00</td>\n",
       "    </tr>\n",
       "  </tbody>\n",
       "</table>\n",
       "</div>"
      ],
      "text/plain": [
       "            mean      sd  hdi_3%  hdi_97%  mcse_mean  mcse_sd  ess_bulk  \\\n",
       "price     19.874  34.386 -44.007   78.582     15.817   11.958       5.0   \n",
       "quantity -22.671  34.386 -81.377   41.220     15.817   11.958       5.0   \n",
       "theta      0.058   0.000   0.057    0.058      0.000    0.000    3678.0   \n",
       "\n",
       "          ess_tail  r_hat  \n",
       "price         12.0   2.31  \n",
       "quantity      12.0   2.31  \n",
       "theta       3145.0   1.00  "
      ]
     },
     "execution_count": 37,
     "metadata": {},
     "output_type": "execute_result"
    }
   ],
   "source": [
    "with pm.Model() as model:\n",
    "    # Априорные распределения\n",
    "    price = pm.Normal('price', mu=transformed_df['Price'].mean(), sigma=transformed_df['Price'].std())\n",
    "    quantity = pm.Normal('quantity', mu=transformed_df['Quantity'].mean(), sigma=transformed_df['Quantity'].std())\n",
    "\n",
    "    # Условное распределение для is_returned\n",
    "    theta = pm.Deterministic('theta', pm.math.sigmoid(price + quantity))\n",
    "    is_returned = pm.Bernoulli('is_returned', p=theta, observed=transformed_df['is_returned'])\n",
    "\n",
    "    # Обучение модели\n",
    "    trace = pm.sample(1000)\n",
    "\n",
    "# Анализ результатов\n",
    "pm.summary(trace)"
   ]
  }
 ],
 "metadata": {
  "kernelspec": {
   "display_name": "Python [conda env:ff_ds]",
   "language": "python",
   "name": "conda-env-ff_ds-py"
  },
  "language_info": {
   "codemirror_mode": {
    "name": "ipython",
    "version": 3
   },
   "file_extension": ".py",
   "mimetype": "text/x-python",
   "name": "python",
   "nbconvert_exporter": "python",
   "pygments_lexer": "ipython3",
   "version": "3.11.6"
  }
 },
 "nbformat": 4,
 "nbformat_minor": 5
}
