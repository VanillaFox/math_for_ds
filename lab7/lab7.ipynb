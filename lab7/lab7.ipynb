{
 "cells": [
  {
   "cell_type": "code",
   "execution_count": 60,
   "id": "c3b39237-a22b-4469-9310-e0a2a261f9ff",
   "metadata": {},
   "outputs": [],
   "source": [
    "import numpy as np"
   ]
  },
  {
   "cell_type": "code",
   "execution_count": 61,
   "id": "8b7b7637-9e26-4cb3-942b-729d2e203693",
   "metadata": {},
   "outputs": [],
   "source": [
    "# импорты для интерактива\n",
    "from ipywidgets import interact, fixed\n",
    "import ipywidgets as widgets"
   ]
  },
  {
   "cell_type": "code",
   "execution_count": 62,
   "id": "fb13635c-d962-4c4a-9036-a2028718fabe",
   "metadata": {},
   "outputs": [],
   "source": [
    "# вектор свободных членов (start_i, start_j) -> (end_i, end_j) -> value\n",
    "free_terms = {\n",
    "    (0, 1): {  # координата A\n",
    "        (4, 1): 10,  # координата A' -> значение\n",
    "    },\n",
    "    (0, 3): {  # координата B\n",
    "        (2, 3): 5,  # координата B' -> значение\n",
    "    }\n",
    "}"
   ]
  },
  {
   "cell_type": "code",
   "execution_count": 63,
   "id": "008fbc06-713d-4b23-a3a3-2038bf52f021",
   "metadata": {},
   "outputs": [
    {
     "data": {
      "application/vnd.jupyter.widget-view+json": {
       "model_id": "9fdadf1eee5b4b9186d95e9758eb29bc",
       "version_major": 2,
       "version_minor": 0
      },
      "text/plain": [
       "interactive(children=(IntSlider(value=5, description='height', max=10, min=1), IntSlider(value=5, description=…"
      ]
     },
     "metadata": {},
     "output_type": "display_data"
    }
   ],
   "source": [
    "# задание интерактива и ограничений для значений\n",
    "@interact(\n",
    "    height=widgets.IntSlider(min=1, max=10, step=1, value=5),\n",
    "    width=widgets.IntSlider(min=1, max=10, step=1, value=5),\n",
    "    gamma=widgets.FloatSlider(min=0, max=1, step=0.1, value=0.9),\n",
    "    borders_penalty=widgets.IntSlider(min=-10, max=0, step=1, value=-1),\n",
    "    free_terms=fixed(free_terms),\n",
    ")\n",
    "def solve_problem(height, width, gamma, borders_penalty, free_terms):\n",
    "\n",
    "    A = np.zeros((height * width, height * width))\n",
    "    b = np.zeros(height * width)  # Коэффициент при V(s)\n",
    "    \n",
    "    for row in range(height):\n",
    "        for col in range(width):\n",
    "            idx_flatten = row * width + col  # одномерное представление координат\n",
    "            A[idx_flatten, idx_flatten] = -1\n",
    "\n",
    "            # соседние клетки\n",
    "            next_idxes = ((row - 1, col), (row, col - 1), (row + 1, col), (row, col + 1))\n",
    "    \n",
    "            for i, j in next_idxes:\n",
    "                if 0 <= j <= width - 1 and 0 <= i <= height - 1:\n",
    "                    next_idx_flatten = i * width + j  # одномерное представление координат\n",
    "                    A[idx_flatten, next_idx_flatten] += gamma / len(next_idxes)  # дисконтирование\n",
    "                else:\n",
    "                    # штрафуем за выход за пределы поля\n",
    "                    b[idx_flatten] -= borders_penalty / len(next_idxes)\n",
    "\n",
    "    # обрабатываем все свободные члены\n",
    "    for (start_i, start_j), dict_value in free_terms.items():\n",
    "        for (next_i, next_j), value in dict_value.items():\n",
    "            idx_flatten = start_i * width + start_j  # одномерное представление координат\n",
    "            next_idx_flatten = next_i * width + next_j  # одномерное представление координат\n",
    "            A[idx_flatten, next_idx_flatten] = gamma\n",
    "            b[idx_flatten] = -value\n",
    "\n",
    "    # решение СЛАУ и возврат решения в форме матрицы\n",
    "    return np.linalg.solve(A, b).reshape((height, width))"
   ]
  }
 ],
 "metadata": {
  "kernelspec": {
   "display_name": "Python [conda env:ff_ds]",
   "language": "python",
   "name": "conda-env-ff_ds-py"
  },
  "language_info": {
   "codemirror_mode": {
    "name": "ipython",
    "version": 3
   },
   "file_extension": ".py",
   "mimetype": "text/x-python",
   "name": "python",
   "nbconvert_exporter": "python",
   "pygments_lexer": "ipython3",
   "version": "3.11.6"
  }
 },
 "nbformat": 4,
 "nbformat_minor": 5
}
