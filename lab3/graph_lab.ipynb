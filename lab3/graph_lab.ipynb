{
 "cells": [
  {
   "cell_type": "markdown",
   "id": "cfc98813-521d-4cbb-b9f3-bda5ccee911a",
   "metadata": {},
   "source": [
    "# Graph Lab"
   ]
  },
  {
   "cell_type": "markdown",
   "id": "164399a0-0013-4156-9e49-078ef86de602",
   "metadata": {},
   "source": [
    "## Reading data"
   ]
  },
  {
   "cell_type": "code",
   "execution_count": 2,
   "id": "initial_id",
   "metadata": {
    "ExecuteTime": {
     "end_time": "2023-09-23T19:05:47.368494072Z",
     "start_time": "2023-09-23T19:05:47.175631832Z"
    },
    "collapsed": false,
    "jupyter": {
     "outputs_hidden": false
    }
   },
   "outputs": [],
   "source": [
    "import json\n",
    "\n",
    "import matplotlib.pyplot as plt\n",
    "import networkx as nx\n",
    "import pandas as pd\n",
    "import numpy as np\n",
    "\n",
    "%matplotlib inline"
   ]
  },
  {
   "cell_type": "code",
   "execution_count": 3,
   "id": "8fc25345c2f5acbc",
   "metadata": {
    "ExecuteTime": {
     "end_time": "2023-09-23T19:05:32.939665264Z",
     "start_time": "2023-09-23T19:05:32.802446754Z"
    },
    "collapsed": false,
    "jupyter": {
     "outputs_hidden": false
    }
   },
   "outputs": [],
   "source": [
    "with open(\"graph_format/graph.json\", \"r\") as f:\n",
    "    G = nx.node_link_graph(json.load(f))"
   ]
  },
  {
   "cell_type": "code",
   "execution_count": 4,
   "id": "9001a361-6720-47cb-8469-baa8cd8484d1",
   "metadata": {},
   "outputs": [],
   "source": [
    "with open(\"graph_format/users.json\", \"r\") as f:\n",
    "    users = json.load(f)"
   ]
  },
  {
   "cell_type": "code",
   "execution_count": 5,
   "id": "3e87cfa2-1050-46df-9c23-59219d3df47c",
   "metadata": {},
   "outputs": [],
   "source": [
    "df = pd.read_csv(\"data.csv\")"
   ]
  },
  {
   "cell_type": "code",
   "execution_count": 6,
   "id": "46e8744e-d35e-48e9-b9d7-7f76a9acc521",
   "metadata": {},
   "outputs": [
    {
     "data": {
      "text/html": [
       "<div>\n",
       "<style scoped>\n",
       "    .dataframe tbody tr th:only-of-type {\n",
       "        vertical-align: middle;\n",
       "    }\n",
       "\n",
       "    .dataframe tbody tr th {\n",
       "        vertical-align: top;\n",
       "    }\n",
       "\n",
       "    .dataframe thead th {\n",
       "        text-align: right;\n",
       "    }\n",
       "</style>\n",
       "<table border=\"1\" class=\"dataframe\">\n",
       "  <thead>\n",
       "    <tr style=\"text-align: right;\">\n",
       "      <th></th>\n",
       "      <th>name</th>\n",
       "      <th>id</th>\n",
       "      <th>vkid</th>\n",
       "    </tr>\n",
       "  </thead>\n",
       "  <tbody>\n",
       "    <tr>\n",
       "      <th>0</th>\n",
       "      <td>Алексеева Екатерина</td>\n",
       "      <td>kate_al02</td>\n",
       "      <td>181400458</td>\n",
       "    </tr>\n",
       "    <tr>\n",
       "      <th>1</th>\n",
       "      <td>Бирюков Виктор</td>\n",
       "      <td>iktovr</td>\n",
       "      <td>136004593</td>\n",
       "    </tr>\n",
       "    <tr>\n",
       "      <th>2</th>\n",
       "      <td>Васильев Даниил</td>\n",
       "      <td>da_mil_ka</td>\n",
       "      <td>151143124</td>\n",
       "    </tr>\n",
       "    <tr>\n",
       "      <th>3</th>\n",
       "      <td>Воронов Кирилл</td>\n",
       "      <td>id248826936</td>\n",
       "      <td>248826936</td>\n",
       "    </tr>\n",
       "    <tr>\n",
       "      <th>4</th>\n",
       "      <td>Гребенков Дмитрий</td>\n",
       "      <td>irnevoir</td>\n",
       "      <td>172224066</td>\n",
       "    </tr>\n",
       "  </tbody>\n",
       "</table>\n",
       "</div>"
      ],
      "text/plain": [
       "                  name           id       vkid\n",
       "0  Алексеева Екатерина    kate_al02  181400458\n",
       "1       Бирюков Виктор       iktovr  136004593\n",
       "2      Васильев Даниил    da_mil_ka  151143124\n",
       "3       Воронов Кирилл  id248826936  248826936\n",
       "4    Гребенков Дмитрий     irnevoir  172224066"
      ]
     },
     "execution_count": 6,
     "metadata": {},
     "output_type": "execute_result"
    }
   ],
   "source": [
    "df.head()"
   ]
  },
  {
   "cell_type": "code",
   "execution_count": 7,
   "id": "394fd45e-a4fc-4ab2-b4bf-532aa3f41047",
   "metadata": {},
   "outputs": [],
   "source": [
    "new_users = {}\n",
    "for k, v in users.items():\n",
    "    new_users[int(k)] = v"
   ]
  },
  {
   "cell_type": "code",
   "execution_count": 8,
   "id": "60d17cc5-5889-41e2-b10a-4ccad66aec6c",
   "metadata": {},
   "outputs": [],
   "source": [
    "for k, v in new_users.items():\n",
    "    if G.has_node(k):\n",
    "        G.add_node(k, **v)"
   ]
  },
  {
   "cell_type": "markdown",
   "id": "486487d1-de12-4ca6-be4f-b0c883c91f31",
   "metadata": {},
   "source": [
    "## Writing graph in https://cosmograph.app/run/ format"
   ]
  },
  {
   "cell_type": "code",
   "execution_count": 10,
   "id": "6009a2c9-2b1f-42a6-85fb-581f7e38e410",
   "metadata": {},
   "outputs": [],
   "source": [
    "u_df = pd.DataFrame(new_users).T.drop([\"deactivated\", \"can_access_closed\", \"is_closed\"], axis=1)"
   ]
  },
  {
   "cell_type": "code",
   "execution_count": 45,
   "id": "089d88a8-4eec-466f-96a6-a1544308c634",
   "metadata": {},
   "outputs": [],
   "source": [
    "u_df.to_csv(\"users.csv\", index_label=\"id\")"
   ]
  },
  {
   "cell_type": "code",
   "execution_count": 11,
   "id": "799ec4be-7f55-42b1-87ed-544385ee8905",
   "metadata": {},
   "outputs": [],
   "source": [
    "with open(\"graph_raw.csv\", \"wb\") as f:\n",
    "    f.write(b\"source,target\\n\")\n",
    "    nx.write_edgelist(G, f, delimiter=',', data=False)"
   ]
  },
  {
   "cell_type": "markdown",
   "id": "eb1b0162-2a9e-4c7b-bf9a-1a85c952cfc6",
   "metadata": {},
   "source": [
    "## Compute centralities"
   ]
  },
  {
   "cell_type": "code",
   "execution_count": 25,
   "id": "cab42556-c7f5-4d2d-a6fc-98faecfa670e",
   "metadata": {},
   "outputs": [],
   "source": [
    "# %%timeit -r1\n",
    "closeness_centralities = {}\n",
    "for vkid in df[\"vkid\"].tolist():\n",
    "    if G.has_node(vkid):\n",
    "        closeness_centralities[vkid] = nx.closeness_centrality(G, u=vkid)\n",
    "    else:\n",
    "        closeness_centralities[vkid] = 0"
   ]
  },
  {
   "cell_type": "code",
   "execution_count": 28,
   "id": "a6d26aa1-ca32-4cf3-9906-cd6bd88e4dad",
   "metadata": {},
   "outputs": [],
   "source": [
    "# %%timeit -r1\n",
    "neighbors_to_process = set()\n",
    "\n",
    "for _, row in df.iterrows():\n",
    "    neighbors_to_process.add(row.vkid)\n",
    "\n",
    "betweenness_centralities = nx.betweenness_centrality_subset(G, neighbors_to_process, neighbors_to_process, normalized=True)"
   ]
  },
  {
   "cell_type": "code",
   "execution_count": 32,
   "id": "d3f28fad-b81f-4abc-a837-b0bd115c0c04",
   "metadata": {},
   "outputs": [],
   "source": [
    "eigenvector_centralities = nx.eigenvector_centrality_numpy(G)"
   ]
  },
  {
   "cell_type": "markdown",
   "id": "ef73577b-f71c-493f-846f-d1c488e7b14e",
   "metadata": {},
   "source": [
    "## Output users with highest centrality"
   ]
  },
  {
   "cell_type": "code",
   "execution_count": 22,
   "id": "55384e74-d285-4f43-a095-dcf785751ffe",
   "metadata": {},
   "outputs": [],
   "source": [
    "def output_best_centrality(vkids, centrality):\n",
    "    c = [(centrality[vkid], vkid) for vkid in vkids if vkid in centrality]\n",
    "    rc = list(range(len(c)))\n",
    "    rc.sort(key=lambda x: c[x][0])\n",
    "    return c[rc[-1]][1]"
   ]
  },
  {
   "cell_type": "code",
   "execution_count": 26,
   "id": "d457c5e6-3e83-4890-b073-5ecddba3ec50",
   "metadata": {},
   "outputs": [
    {
     "data": {
      "text/html": [
       "<div>\n",
       "<style scoped>\n",
       "    .dataframe tbody tr th:only-of-type {\n",
       "        vertical-align: middle;\n",
       "    }\n",
       "\n",
       "    .dataframe tbody tr th {\n",
       "        vertical-align: top;\n",
       "    }\n",
       "\n",
       "    .dataframe thead th {\n",
       "        text-align: right;\n",
       "    }\n",
       "</style>\n",
       "<table border=\"1\" class=\"dataframe\">\n",
       "  <thead>\n",
       "    <tr style=\"text-align: right;\">\n",
       "      <th></th>\n",
       "      <th>name</th>\n",
       "      <th>id</th>\n",
       "      <th>vkid</th>\n",
       "    </tr>\n",
       "  </thead>\n",
       "  <tbody>\n",
       "    <tr>\n",
       "      <th>11</th>\n",
       "      <td>Уваров Андрей</td>\n",
       "      <td>anonumovich</td>\n",
       "      <td>206240342</td>\n",
       "    </tr>\n",
       "  </tbody>\n",
       "</table>\n",
       "</div>"
      ],
      "text/plain": [
       "             name           id       vkid\n",
       "11  Уваров Андрей  anonumovich  206240342"
      ]
     },
     "execution_count": 26,
     "metadata": {},
     "output_type": "execute_result"
    }
   ],
   "source": [
    "df[df[\"vkid\"] == output_best_centrality(df[\"vkid\"].tolist(), closeness_centralities)]"
   ]
  },
  {
   "cell_type": "code",
   "execution_count": 29,
   "id": "15d9a7df-f300-4af0-abdb-9d6282889983",
   "metadata": {},
   "outputs": [
    {
     "data": {
      "text/html": [
       "<div>\n",
       "<style scoped>\n",
       "    .dataframe tbody tr th:only-of-type {\n",
       "        vertical-align: middle;\n",
       "    }\n",
       "\n",
       "    .dataframe tbody tr th {\n",
       "        vertical-align: top;\n",
       "    }\n",
       "\n",
       "    .dataframe thead th {\n",
       "        text-align: right;\n",
       "    }\n",
       "</style>\n",
       "<table border=\"1\" class=\"dataframe\">\n",
       "  <thead>\n",
       "    <tr style=\"text-align: right;\">\n",
       "      <th></th>\n",
       "      <th>name</th>\n",
       "      <th>id</th>\n",
       "      <th>vkid</th>\n",
       "    </tr>\n",
       "  </thead>\n",
       "  <tbody>\n",
       "    <tr>\n",
       "      <th>1</th>\n",
       "      <td>Бирюков Виктор</td>\n",
       "      <td>iktovr</td>\n",
       "      <td>136004593</td>\n",
       "    </tr>\n",
       "  </tbody>\n",
       "</table>\n",
       "</div>"
      ],
      "text/plain": [
       "             name      id       vkid\n",
       "1  Бирюков Виктор  iktovr  136004593"
      ]
     },
     "execution_count": 29,
     "metadata": {},
     "output_type": "execute_result"
    }
   ],
   "source": [
    "df[df[\"vkid\"] == output_best_centrality(df[\"vkid\"].tolist(), betweenness_centralities)]"
   ]
  },
  {
   "cell_type": "code",
   "execution_count": 33,
   "id": "ae890aab-9e17-4b99-a028-17d01ca86a89",
   "metadata": {},
   "outputs": [
    {
     "data": {
      "text/html": [
       "<div>\n",
       "<style scoped>\n",
       "    .dataframe tbody tr th:only-of-type {\n",
       "        vertical-align: middle;\n",
       "    }\n",
       "\n",
       "    .dataframe tbody tr th {\n",
       "        vertical-align: top;\n",
       "    }\n",
       "\n",
       "    .dataframe thead th {\n",
       "        text-align: right;\n",
       "    }\n",
       "</style>\n",
       "<table border=\"1\" class=\"dataframe\">\n",
       "  <thead>\n",
       "    <tr style=\"text-align: right;\">\n",
       "      <th></th>\n",
       "      <th>name</th>\n",
       "      <th>id</th>\n",
       "      <th>vkid</th>\n",
       "    </tr>\n",
       "  </thead>\n",
       "  <tbody>\n",
       "    <tr>\n",
       "      <th>11</th>\n",
       "      <td>Уваров Андрей</td>\n",
       "      <td>anonumovich</td>\n",
       "      <td>206240342</td>\n",
       "    </tr>\n",
       "  </tbody>\n",
       "</table>\n",
       "</div>"
      ],
      "text/plain": [
       "             name           id       vkid\n",
       "11  Уваров Андрей  anonumovich  206240342"
      ]
     },
     "execution_count": 33,
     "metadata": {},
     "output_type": "execute_result"
    }
   ],
   "source": [
    "df[df[\"vkid\"] == output_best_centrality(df[\"vkid\"].tolist(), eigenvector_centralities)]"
   ]
  }
 ],
 "metadata": {
  "kernelspec": {
   "display_name": "Python 3 (ipykernel)",
   "language": "python",
   "name": "python3"
  },
  "language_info": {
   "codemirror_mode": {
    "name": "ipython",
    "version": 3
   },
   "file_extension": ".py",
   "mimetype": "text/x-python",
   "name": "python",
   "nbconvert_exporter": "python",
   "pygments_lexer": "ipython3",
   "version": "3.10.12"
  }
 },
 "nbformat": 4,
 "nbformat_minor": 5
}
