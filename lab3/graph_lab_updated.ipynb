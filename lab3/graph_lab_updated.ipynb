{
 "cells": [
  {
   "cell_type": "markdown",
   "id": "cfc98813-521d-4cbb-b9f3-bda5ccee911a",
   "metadata": {},
   "source": [
    "# Graph Lab"
   ]
  },
  {
   "cell_type": "markdown",
   "id": "164399a0-0013-4156-9e49-078ef86de602",
   "metadata": {},
   "source": [
    "## Reading data"
   ]
  },
  {
   "cell_type": "code",
   "execution_count": 1,
   "id": "initial_id",
   "metadata": {
    "ExecuteTime": {
     "end_time": "2023-09-23T19:05:47.368494072Z",
     "start_time": "2023-09-23T19:05:47.175631832Z"
    },
    "collapsed": false,
    "jupyter": {
     "outputs_hidden": false
    }
   },
   "outputs": [],
   "source": [
    "import json\n",
    "\n",
    "import matplotlib.pyplot as plt\n",
    "import networkx as nx\n",
    "import pandas as pd\n",
    "import numpy as np\n",
    "\n",
    "%matplotlib inline"
   ]
  },
  {
   "cell_type": "code",
   "execution_count": 8,
   "id": "8fc25345c2f5acbc",
   "metadata": {
    "ExecuteTime": {
     "end_time": "2023-09-23T19:05:32.939665264Z",
     "start_time": "2023-09-23T19:05:32.802446754Z"
    },
    "collapsed": false,
    "jupyter": {
     "outputs_hidden": false
    }
   },
   "outputs": [],
   "source": [
    "graph_df = pd.read_csv(\"graph.csv\")\n",
    "G = nx.from_pandas_edgelist(graph_df)"
   ]
  },
  {
   "cell_type": "code",
   "execution_count": 35,
   "id": "b57332f7-72a5-401c-8666-a00ab9fad372",
   "metadata": {},
   "outputs": [],
   "source": [
    "people_df = pd.read_csv(\"people.csv\")"
   ]
  },
  {
   "cell_type": "code",
   "execution_count": 6,
   "id": "3e87cfa2-1050-46df-9c23-59219d3df47c",
   "metadata": {},
   "outputs": [],
   "source": [
    "df = pd.read_csv(\"data.csv\")"
   ]
  },
  {
   "cell_type": "code",
   "execution_count": 7,
   "id": "46e8744e-d35e-48e9-b9d7-7f76a9acc521",
   "metadata": {},
   "outputs": [
    {
     "data": {
      "text/html": [
       "<div>\n",
       "<style scoped>\n",
       "    .dataframe tbody tr th:only-of-type {\n",
       "        vertical-align: middle;\n",
       "    }\n",
       "\n",
       "    .dataframe tbody tr th {\n",
       "        vertical-align: top;\n",
       "    }\n",
       "\n",
       "    .dataframe thead th {\n",
       "        text-align: right;\n",
       "    }\n",
       "</style>\n",
       "<table border=\"1\" class=\"dataframe\">\n",
       "  <thead>\n",
       "    <tr style=\"text-align: right;\">\n",
       "      <th></th>\n",
       "      <th>name</th>\n",
       "      <th>id</th>\n",
       "      <th>vkid</th>\n",
       "    </tr>\n",
       "  </thead>\n",
       "  <tbody>\n",
       "    <tr>\n",
       "      <th>0</th>\n",
       "      <td>Алексеева Екатерина</td>\n",
       "      <td>kate_al02</td>\n",
       "      <td>181400458</td>\n",
       "    </tr>\n",
       "    <tr>\n",
       "      <th>1</th>\n",
       "      <td>Бирюков Виктор</td>\n",
       "      <td>iktovr</td>\n",
       "      <td>136004593</td>\n",
       "    </tr>\n",
       "    <tr>\n",
       "      <th>2</th>\n",
       "      <td>Васильев Даниил</td>\n",
       "      <td>da_mil_ka</td>\n",
       "      <td>151143124</td>\n",
       "    </tr>\n",
       "    <tr>\n",
       "      <th>3</th>\n",
       "      <td>Воронов Кирилл</td>\n",
       "      <td>id248826936</td>\n",
       "      <td>248826936</td>\n",
       "    </tr>\n",
       "    <tr>\n",
       "      <th>4</th>\n",
       "      <td>Гребенков Дмитрий</td>\n",
       "      <td>irnevoir</td>\n",
       "      <td>172224066</td>\n",
       "    </tr>\n",
       "  </tbody>\n",
       "</table>\n",
       "</div>"
      ],
      "text/plain": [
       "                  name           id       vkid\n",
       "0  Алексеева Екатерина    kate_al02  181400458\n",
       "1       Бирюков Виктор       iktovr  136004593\n",
       "2      Васильев Даниил    da_mil_ka  151143124\n",
       "3       Воронов Кирилл  id248826936  248826936\n",
       "4    Гребенков Дмитрий     irnevoir  172224066"
      ]
     },
     "execution_count": 7,
     "metadata": {},
     "output_type": "execute_result"
    }
   ],
   "source": [
    "df.head()"
   ]
  },
  {
   "cell_type": "markdown",
   "id": "eb1b0162-2a9e-4c7b-bf9a-1a85c952cfc6",
   "metadata": {},
   "source": [
    "## Compute centralities"
   ]
  },
  {
   "cell_type": "code",
   "execution_count": 36,
   "id": "c2837dad-0ed0-4fda-9df6-b4859943d469",
   "metadata": {},
   "outputs": [
    {
     "data": {
      "text/html": [
       "<div>\n",
       "<style scoped>\n",
       "    .dataframe tbody tr th:only-of-type {\n",
       "        vertical-align: middle;\n",
       "    }\n",
       "\n",
       "    .dataframe tbody tr th {\n",
       "        vertical-align: top;\n",
       "    }\n",
       "\n",
       "    .dataframe thead th {\n",
       "        text-align: right;\n",
       "    }\n",
       "</style>\n",
       "<table border=\"1\" class=\"dataframe\">\n",
       "  <thead>\n",
       "    <tr style=\"text-align: right;\">\n",
       "      <th></th>\n",
       "      <th>id</th>\n",
       "      <th>vk_id</th>\n",
       "      <th>name</th>\n",
       "      <th>level</th>\n",
       "    </tr>\n",
       "  </thead>\n",
       "  <tbody>\n",
       "    <tr>\n",
       "      <th>0</th>\n",
       "      <td>0</td>\n",
       "      <td>181400458</td>\n",
       "      <td>Алексеева Екатерина</td>\n",
       "      <td>0</td>\n",
       "    </tr>\n",
       "    <tr>\n",
       "      <th>1</th>\n",
       "      <td>1</td>\n",
       "      <td>136004593</td>\n",
       "      <td>Бирюков Виктор</td>\n",
       "      <td>0</td>\n",
       "    </tr>\n",
       "    <tr>\n",
       "      <th>2</th>\n",
       "      <td>2</td>\n",
       "      <td>151143124</td>\n",
       "      <td>Васильев Даниил</td>\n",
       "      <td>0</td>\n",
       "    </tr>\n",
       "    <tr>\n",
       "      <th>3</th>\n",
       "      <td>3</td>\n",
       "      <td>248826936</td>\n",
       "      <td>Воронов Кирилл</td>\n",
       "      <td>0</td>\n",
       "    </tr>\n",
       "    <tr>\n",
       "      <th>4</th>\n",
       "      <td>4</td>\n",
       "      <td>172224066</td>\n",
       "      <td>Гребенков Дмитрий</td>\n",
       "      <td>0</td>\n",
       "    </tr>\n",
       "  </tbody>\n",
       "</table>\n",
       "</div>"
      ],
      "text/plain": [
       "   id      vk_id                 name  level\n",
       "0   0  181400458  Алексеева Екатерина      0\n",
       "1   1  136004593       Бирюков Виктор      0\n",
       "2   2  151143124      Васильев Даниил      0\n",
       "3   3  248826936       Воронов Кирилл      0\n",
       "4   4  172224066    Гребенков Дмитрий      0"
      ]
     },
     "execution_count": 36,
     "metadata": {},
     "output_type": "execute_result"
    }
   ],
   "source": [
    "people_df.head()"
   ]
  },
  {
   "cell_type": "code",
   "execution_count": 41,
   "id": "cab42556-c7f5-4d2d-a6fc-98faecfa670e",
   "metadata": {},
   "outputs": [],
   "source": [
    "# %%timeit -r1\n",
    "closeness_centralities = {}\n",
    "for vkid in df[\"vkid\"].tolist():\n",
    "    id_ = people_df[people_df[\"vk_id\"] == vkid].iloc[0].id\n",
    "    if G.has_node(id_):\n",
    "        closeness_centralities[id_] = nx.closeness_centrality(G, u=id_)\n",
    "    else:\n",
    "        closeness_centralities[id_] = 0"
   ]
  },
  {
   "cell_type": "code",
   "execution_count": 42,
   "id": "a6d26aa1-ca32-4cf3-9906-cd6bd88e4dad",
   "metadata": {},
   "outputs": [],
   "source": [
    "# %%timeit -r1\n",
    "neighbors_to_process = set()\n",
    "\n",
    "for vkid in df[\"vkid\"].tolist():\n",
    "    id_ = people_df[people_df[\"vk_id\"] == vkid].iloc[0].id\n",
    "    if G.has_node(id_):\n",
    "        neighbors_to_process.add(id_)\n",
    "\n",
    "betweenness_centralities = nx.betweenness_centrality_subset(G, neighbors_to_process, neighbors_to_process, normalized=True)"
   ]
  },
  {
   "cell_type": "code",
   "execution_count": 43,
   "id": "d3f28fad-b81f-4abc-a837-b0bd115c0c04",
   "metadata": {},
   "outputs": [],
   "source": [
    "eigenvector_centralities = nx.eigenvector_centrality_numpy(G)"
   ]
  },
  {
   "cell_type": "markdown",
   "id": "ef73577b-f71c-493f-846f-d1c488e7b14e",
   "metadata": {},
   "source": [
    "## Output users with highest centrality"
   ]
  },
  {
   "cell_type": "code",
   "execution_count": 46,
   "id": "55384e74-d285-4f43-a095-dcf785751ffe",
   "metadata": {},
   "outputs": [],
   "source": [
    "def output_best_centrality(vkids, centrality):\n",
    "    mapping = {}\n",
    "\n",
    "    for vkid in vkids:\n",
    "        id_ = people_df[people_df[\"vk_id\"] == vkid].iloc[0].id\n",
    "        mapping[vkid] = id_\n",
    "    \n",
    "    c = [(centrality[id_], vkid) for vkid, id_ in mapping.items()]\n",
    "    rc = list(range(len(c)))\n",
    "    rc.sort(key=lambda x: c[x][0])\n",
    "    return c[rc[-1]][1]"
   ]
  },
  {
   "cell_type": "code",
   "execution_count": 47,
   "id": "d457c5e6-3e83-4890-b073-5ecddba3ec50",
   "metadata": {},
   "outputs": [
    {
     "data": {
      "text/html": [
       "<div>\n",
       "<style scoped>\n",
       "    .dataframe tbody tr th:only-of-type {\n",
       "        vertical-align: middle;\n",
       "    }\n",
       "\n",
       "    .dataframe tbody tr th {\n",
       "        vertical-align: top;\n",
       "    }\n",
       "\n",
       "    .dataframe thead th {\n",
       "        text-align: right;\n",
       "    }\n",
       "</style>\n",
       "<table border=\"1\" class=\"dataframe\">\n",
       "  <thead>\n",
       "    <tr style=\"text-align: right;\">\n",
       "      <th></th>\n",
       "      <th>name</th>\n",
       "      <th>id</th>\n",
       "      <th>vkid</th>\n",
       "    </tr>\n",
       "  </thead>\n",
       "  <tbody>\n",
       "    <tr>\n",
       "      <th>11</th>\n",
       "      <td>Уваров Андрей</td>\n",
       "      <td>anonumovich</td>\n",
       "      <td>206240342</td>\n",
       "    </tr>\n",
       "  </tbody>\n",
       "</table>\n",
       "</div>"
      ],
      "text/plain": [
       "             name           id       vkid\n",
       "11  Уваров Андрей  anonumovich  206240342"
      ]
     },
     "execution_count": 47,
     "metadata": {},
     "output_type": "execute_result"
    }
   ],
   "source": [
    "df[df[\"vkid\"] == output_best_centrality(df[\"vkid\"].tolist(), closeness_centralities)]"
   ]
  },
  {
   "cell_type": "code",
   "execution_count": 48,
   "id": "15d9a7df-f300-4af0-abdb-9d6282889983",
   "metadata": {},
   "outputs": [
    {
     "data": {
      "text/html": [
       "<div>\n",
       "<style scoped>\n",
       "    .dataframe tbody tr th:only-of-type {\n",
       "        vertical-align: middle;\n",
       "    }\n",
       "\n",
       "    .dataframe tbody tr th {\n",
       "        vertical-align: top;\n",
       "    }\n",
       "\n",
       "    .dataframe thead th {\n",
       "        text-align: right;\n",
       "    }\n",
       "</style>\n",
       "<table border=\"1\" class=\"dataframe\">\n",
       "  <thead>\n",
       "    <tr style=\"text-align: right;\">\n",
       "      <th></th>\n",
       "      <th>name</th>\n",
       "      <th>id</th>\n",
       "      <th>vkid</th>\n",
       "    </tr>\n",
       "  </thead>\n",
       "  <tbody>\n",
       "    <tr>\n",
       "      <th>1</th>\n",
       "      <td>Бирюков Виктор</td>\n",
       "      <td>iktovr</td>\n",
       "      <td>136004593</td>\n",
       "    </tr>\n",
       "  </tbody>\n",
       "</table>\n",
       "</div>"
      ],
      "text/plain": [
       "             name      id       vkid\n",
       "1  Бирюков Виктор  iktovr  136004593"
      ]
     },
     "execution_count": 48,
     "metadata": {},
     "output_type": "execute_result"
    }
   ],
   "source": [
    "df[df[\"vkid\"] == output_best_centrality(df[\"vkid\"].tolist(), betweenness_centralities)]"
   ]
  },
  {
   "cell_type": "code",
   "execution_count": 49,
   "id": "ae890aab-9e17-4b99-a028-17d01ca86a89",
   "metadata": {},
   "outputs": [
    {
     "data": {
      "text/html": [
       "<div>\n",
       "<style scoped>\n",
       "    .dataframe tbody tr th:only-of-type {\n",
       "        vertical-align: middle;\n",
       "    }\n",
       "\n",
       "    .dataframe tbody tr th {\n",
       "        vertical-align: top;\n",
       "    }\n",
       "\n",
       "    .dataframe thead th {\n",
       "        text-align: right;\n",
       "    }\n",
       "</style>\n",
       "<table border=\"1\" class=\"dataframe\">\n",
       "  <thead>\n",
       "    <tr style=\"text-align: right;\">\n",
       "      <th></th>\n",
       "      <th>name</th>\n",
       "      <th>id</th>\n",
       "      <th>vkid</th>\n",
       "    </tr>\n",
       "  </thead>\n",
       "  <tbody>\n",
       "    <tr>\n",
       "      <th>5</th>\n",
       "      <td>Инютин Максим</td>\n",
       "      <td>engineerxl</td>\n",
       "      <td>199361916</td>\n",
       "    </tr>\n",
       "  </tbody>\n",
       "</table>\n",
       "</div>"
      ],
      "text/plain": [
       "            name          id       vkid\n",
       "5  Инютин Максим  engineerxl  199361916"
      ]
     },
     "execution_count": 49,
     "metadata": {},
     "output_type": "execute_result"
    }
   ],
   "source": [
    "df[df[\"vkid\"] == output_best_centrality(df[\"vkid\"].tolist(), eigenvector_centralities)]"
   ]
  }
 ],
 "metadata": {
  "kernelspec": {
   "display_name": "Python [conda env:ff_ds]",
   "language": "python",
   "name": "conda-env-ff_ds-py"
  },
  "language_info": {
   "codemirror_mode": {
    "name": "ipython",
    "version": 3
   },
   "file_extension": ".py",
   "mimetype": "text/x-python",
   "name": "python",
   "nbconvert_exporter": "python",
   "pygments_lexer": "ipython3",
   "version": "3.12.0"
  }
 },
 "nbformat": 4,
 "nbformat_minor": 5
}
